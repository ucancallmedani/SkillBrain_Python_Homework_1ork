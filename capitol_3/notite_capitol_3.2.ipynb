{
 "cells": [
  {
   "cell_type": "markdown",
   "id": "d0a7f4fe",
   "metadata": {},
   "source": [
    "# Titlu capitol 3.2"
   ]
  },
  {
   "cell_type": "markdown",
   "id": "acd4a03a",
   "metadata": {},
   "source": [
    "## Acesta este primul subcapitol"
   ]
  },
  {
   "cell_type": "code",
   "execution_count": 2,
   "id": "ea38e101",
   "metadata": {},
   "outputs": [
    {
     "name": "stdout",
     "output_type": "stream",
     "text": [
      "Hello World\n"
     ]
    }
   ],
   "source": [
    "print(\"Hello World\")"
   ]
  },
  {
   "cell_type": "markdown",
   "id": "c03d05ef",
   "metadata": {},
   "source": [
    "Operator \"in\""
   ]
  },
  {
   "cell_type": "code",
   "execution_count": 3,
   "id": "ead86310",
   "metadata": {},
   "outputs": [
    {
     "name": "stdout",
     "output_type": "stream",
     "text": [
      "S-a gasit litera b in cuvant\n"
     ]
    }
   ],
   "source": [
    "if \"b\" in \"Cub\":\n",
    "    print(\"S-a gasit litera b in cuvant\")"
   ]
  },
  {
   "cell_type": "markdown",
   "id": "77eb3793",
   "metadata": {},
   "source": [
    "Se cere utilizatorului sa introduca o litera. Sa se afiseze daca aceasta este vocala sau consoana"
   ]
  },
  {
   "cell_type": "code",
   "execution_count": null,
   "id": "4b183a4a",
   "metadata": {},
   "outputs": [
    {
     "name": "stdout",
     "output_type": "stream",
     "text": [
      "LITERA ESTE O VOCALA!\n"
     ]
    }
   ],
   "source": [
    "vocale = \"aeiou\"\n",
    "litera_introdusa = input(\"Scrie o litera: \").lower()\n",
    "if litera_introdusa in vocale:\n",
    "    print(\"Litera este o vocala!\".upper())\n",
    "else:\n",
    "    print(\"Litera este o consoana!\".upper())"
   ]
  },
  {
   "cell_type": "markdown",
   "id": "2e8373fe",
   "metadata": {},
   "source": [
    "Functia len() - Length"
   ]
  },
  {
   "cell_type": "markdown",
   "id": "4589fc58",
   "metadata": {},
   "source": [
    "Functia len()"
   ]
  },
  {
   "cell_type": "code",
   "execution_count": 2,
   "id": "cca37c61",
   "metadata": {},
   "outputs": [
    {
     "data": {
      "text/plain": [
       "26"
      ]
     },
     "execution_count": 2,
     "metadata": {},
     "output_type": "execute_result"
    }
   ],
   "source": [
    "len(\"Acesta este un curs Python\")"
   ]
  }
 ],
 "metadata": {
  "kernelspec": {
   "display_name": "Python 3",
   "language": "python",
   "name": "python3"
  },
  "language_info": {
   "codemirror_mode": {
    "name": "ipython",
    "version": 3
   },
   "file_extension": ".py",
   "mimetype": "text/x-python",
   "name": "python",
   "nbconvert_exporter": "python",
   "pygments_lexer": "ipython3",
   "version": "3.13.5"
  }
 },
 "nbformat": 4,
 "nbformat_minor": 5
}
